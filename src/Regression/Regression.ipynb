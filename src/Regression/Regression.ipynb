{
 "cells": [
  {
   "cell_type": "code",
   "execution_count": 1,
   "metadata": {},
   "outputs": [
    {
     "name": "stderr",
     "output_type": "stream",
     "text": [
      "C:\\Users\\Virat\\Anaconda3\\lib\\site-packages\\h5py\\__init__.py:34: FutureWarning: Conversion of the second argument of issubdtype from `float` to `np.floating` is deprecated. In future, it will be treated as `np.float64 == np.dtype(float).type`.\n",
      "  from ._conv import register_converters as _register_converters\n"
     ]
    }
   ],
   "source": [
    "import numpy as np\n",
    "import pandas as pd\n",
    "import scipy.sparse as sp\n",
    "from numpy.linalg import norm\n",
    "from collections import Counter, defaultdict\n",
    "from scipy.sparse import csr_matrix\n",
    "from sklearn import preprocessing\n",
    "from sklearn.model_selection import cross_val_score\n",
    "from sklearn.model_selection import train_test_split\n",
    "from sklearn import datasets, linear_model\n",
    "from sklearn import metrics\n",
    "from math import sqrt\n",
    "from sklearn.metrics import mean_squared_error\n",
    "from sklearn.metrics import mean_absolute_error\n",
    "from sklearn.metrics import accuracy_score, f1_score, precision_score, recall_score, classification_report, confusion_matrix\n",
    "import tensorflow as tf\n",
    "from __future__ import absolute_import, division, print_function"
   ]
  },
  {
   "cell_type": "markdown",
   "metadata": {},
   "source": [
    "# Regression"
   ]
  },
  {
   "cell_type": "code",
   "execution_count": 2,
   "metadata": {
    "collapsed": true
   },
   "outputs": [],
   "source": [
    "# Reading the preprocessed data\n",
    "data = pd.read_csv(\n",
    "    filepath_or_buffer='D:\\MS\\SJSU\\Fall 2018\\CMPE_255\\project\\Final_Regression\\example.csv', \n",
    "    index_col=0)\n",
    "\n",
    "int_rate = data.iloc[:,19:20]\n",
    "\n",
    "data=data.drop(['int_rate'], axis=1)"
   ]
  },
  {
   "cell_type": "code",
   "execution_count": 3,
   "metadata": {
    "collapsed": true
   },
   "outputs": [],
   "source": [
    "int_rate = int_rate['int_rate'].str.split('%').str.get(0)"
   ]
  },
  {
   "cell_type": "code",
   "execution_count": 4,
   "metadata": {
    "collapsed": true
   },
   "outputs": [],
   "source": [
    "# Converting Categorical to Continuous Values\n",
    "le = preprocessing.LabelEncoder()\n",
    "data['amount_diff_inv'] = le.fit_transform(data['amount_diff_inv'])\n",
    "data['grade'] = le.fit_transform(data['grade'])\n",
    "data['home_ownership'] = le.fit_transform(data['home_ownership'])\n",
    "data['verification_status'] = le.fit_transform(data['verification_status'])\n",
    "data['purpose'] = le.fit_transform(data['purpose'])\n",
    "data['loan_status'] = le.fit_transform(data['loan_status'])\n",
    "data['initial_list_status'] = le.fit_transform(data['initial_list_status'])\n",
    "data['delinq_2yrs_cat'] = le.fit_transform(data['delinq_2yrs_cat'])\n",
    "data['inq_last_6mths_cat'] = le.fit_transform(data['inq_last_6mths_cat'])\n",
    "data['pub_rec_cat'] = le.fit_transform(data['pub_rec_cat'])"
   ]
  },
  {
   "cell_type": "code",
   "execution_count": 5,
   "metadata": {
    "collapsed": true
   },
   "outputs": [],
   "source": [
    "# #Scaling the data using standardscalar \n",
    "# scaler = preprocessing.StandardScaler()\n",
    "# X_scaled = scaler.fit_transform(data)"
   ]
  },
  {
   "cell_type": "code",
   "execution_count": 6,
   "metadata": {
    "collapsed": true
   },
   "outputs": [],
   "source": [
    "#Scaling the data using Min_max scalar\n",
    "min_max_scaler = preprocessing.MinMaxScaler()\n",
    "X_scaled = min_max_scaler.fit_transform(data)"
   ]
  },
  {
   "cell_type": "code",
   "execution_count": 7,
   "metadata": {
    "collapsed": true
   },
   "outputs": [],
   "source": [
    "from sklearn.model_selection import train_test_split\n",
    "X_train, X_test, y_train, y_test = train_test_split(X_scaled, int_rate, test_size=0.20, random_state=21)"
   ]
  },
  {
   "cell_type": "code",
   "execution_count": 8,
   "metadata": {},
   "outputs": [
    {
     "name": "stdout",
     "output_type": "stream",
     "text": [
      "Positive examples = 81861\n",
      "Negative examples = 310647\n",
      "Proportion of positive to negative examples = 26.352%\n"
     ]
    }
   ],
   "source": [
    "# Get number of positve and negative samples\n",
    "pos = data[data[\"target\"] == 1].shape[0]\n",
    "neg = data[data[\"target\"] == 0].shape[0]\n",
    "print(f\"Positive examples = {pos}\")\n",
    "print(f\"Negative examples = {neg}\")\n",
    "print(f\"Proportion of positive to negative examples = {(pos / neg) * 100:.3f}%\")"
   ]
  },
  {
   "cell_type": "markdown",
   "metadata": {},
   "source": [
    "# Linear Regression"
   ]
  },
  {
   "cell_type": "code",
   "execution_count": 9,
   "metadata": {},
   "outputs": [
    {
     "data": {
      "text/plain": [
       "array([-1.05218765, -1.04769838, -1.05180144, -1.05275321, -1.06379648,\n",
       "       -1.06704438, -1.06191418, -1.05475721, -1.0606714 , -1.05524232,\n",
       "       -1.06795008, -1.04266088, -1.05247111, -1.05682637, -1.06294858,\n",
       "       -1.04797328, -1.0563036 , -1.04683639, -1.0594542 , -1.05490442])"
      ]
     },
     "execution_count": 9,
     "metadata": {},
     "output_type": "execute_result"
    }
   ],
   "source": [
    "lm = linear_model.LinearRegression(fit_intercept=True, normalize=True, copy_X=True, n_jobs=None)\n",
    "scores = cross_val_score(lm, X_train, y_train, scoring=\"neg_mean_absolute_error\", cv=20)\n",
    "scores"
   ]
  },
  {
   "cell_type": "code",
   "execution_count": 10,
   "metadata": {},
   "outputs": [
    {
     "data": {
      "text/plain": [
       "array([10.58821843, 14.23496065,  6.10189236, 27.34068937, 10.23361699])"
      ]
     },
     "execution_count": 10,
     "metadata": {},
     "output_type": "execute_result"
    }
   ],
   "source": [
    "model = lm.fit(X_train, y_train)\n",
    "predictions = lm.predict(X_test)\n",
    "predictions[0:5]"
   ]
  },
  {
   "cell_type": "code",
   "execution_count": 11,
   "metadata": {},
   "outputs": [
    {
     "data": {
      "image/png": "[encoded data removed]",
      "text/plain": [
       "<matplotlib.figure.Figure at 0x2dfc4e30898>"
      ]
     },
     "metadata": {},
     "output_type": "display_data"
    }
   ],
   "source": [
    "from matplotlib import pyplot as plt\n",
    "testing_predictions = model.predict(X_test).flatten()\n",
    "\n",
    "plt.scatter(y_test, testing_predictions)\n",
    "plt.xlabel('True Values ')\n",
    "plt.ylabel('Predictions ')\n",
    "plt.axis('equal')\n",
    "plt.xlim(plt.xlim())\n",
    "plt.ylim(plt.ylim())\n",
    "_ = plt.plot([-100, 100], [-100, 100])\n",
    "plt.show()"
   ]
  },
  {
   "cell_type": "code",
   "execution_count": 12,
   "metadata": {},
   "outputs": [
    {
     "name": "stdout",
     "output_type": "stream",
     "text": [
      "Testing set Mean Abs Error:    1.05%\n"
     ]
    }
   ],
   "source": [
    "mae = mean_absolute_error(predictions, y_test)\n",
    "print(\"Testing set Mean Abs Error: {:7.2f}%\".format(mae))"
   ]
  },
  {
   "cell_type": "code",
   "execution_count": 13,
   "metadata": {
    "collapsed": true
   },
   "outputs": [],
   "source": [
    "mean_absolute_error_array_LR =[]\n",
    "mean_absolute_error_array_LR.append(mae)"
   ]
  },
  {
   "cell_type": "markdown",
   "metadata": {},
   "source": [
    "# Randomforest Regression"
   ]
  },
  {
   "cell_type": "code",
   "execution_count": 18,
   "metadata": {
    "collapsed": true
   },
   "outputs": [],
   "source": [
    "mean_score = []\n",
    "number_estimator=[20, 50, 70, 100]"
   ]
  },
  {
   "cell_type": "code",
   "execution_count": 26,
   "metadata": {},
   "outputs": [
    {
     "data": {
      "text/plain": [
       "array([10.66333333, 14.32333333,  5.32      , 29.61666667,  9.93      ])"
      ]
     },
     "execution_count": 26,
     "metadata": {},
     "output_type": "execute_result"
    }
   ],
   "source": [
    "from sklearn.ensemble import RandomForestRegressor\n",
    "rf = RandomForestRegressor(n_estimators = 3, random_state = 28)\n",
    "scores = cross_val_score(rf, X_train, y_train, scoring=\"neg_mean_absolute_error\", cv=2)\n",
    "mean = np.mean(scores, dtype=np.float64)\n",
    "mean_score.append(mean)\n",
    "rf_score= rf.fit(X_train, y_train)\n",
    "predictions = rf.predict(X_test)\n",
    "predictions[0:5]"
   ]
  },
  {
   "cell_type": "code",
   "execution_count": 27,
   "metadata": {},
   "outputs": [
    {
     "name": "stdout",
     "output_type": "stream",
     "text": [
      "[-0.27975832945867396, -0.26985863008987226, -0.3297779501028656, -0.3124143275393901]\n"
     ]
    }
   ],
   "source": [
    "print(mean_score)"
   ]
  },
  {
   "cell_type": "code",
   "execution_count": 28,
   "metadata": {},
   "outputs": [
    {
     "data": {
      "text/plain": [
       "<matplotlib.figure.Figure at 0x2dfc4e45c18>"
      ]
     },
     "metadata": {},
     "output_type": "display_data"
    },
    {
     "data": {
      "image/png": "[encoded data removed]",
      "text/plain": [
       "<matplotlib.figure.Figure at 0x2dfd0ab17f0>"
      ]
     },
     "metadata": {},
     "output_type": "display_data"
    },
    {
     "data": {
      "image/png": "[encoded data removed]",
      "text/plain": [
       "<matplotlib.figure.Figure at 0x2dfd0616e10>"
      ]
     },
     "metadata": {},
     "output_type": "display_data"
    }
   ],
   "source": [
    "fig = plt.figure()\n",
    "plt.rcParams[\"figure.figsize\"]  \n",
    "plt.plot(mean_score, number_estimator)\n",
    "plt.xlabel('number of Estimator')\n",
    "plt.ylabel('Mean Absolute Error')\n",
    "plt.grid(True)\n",
    "plt.show()"
   ]
  },
  {
   "cell_type": "code",
   "execution_count": null,
   "metadata": {
    "collapsed": true
   },
   "outputs": [],
   "source": [
    "mea = mean_absolute_error(y_test, predictions)\n",
    "mea"
   ]
  },
  {
   "cell_type": "code",
   "execution_count": null,
   "metadata": {
    "collapsed": true
   },
   "outputs": [],
   "source": [
    "mse = mean_squared_error(predictions, y_test)\n",
    "mse"
   ]
  },
  {
   "cell_type": "code",
   "execution_count": null,
   "metadata": {
    "collapsed": true
   },
   "outputs": [],
   "source": [
    "mean_absolute_error_array_RF =[]\n",
    "mean_absolute_error_array_RF.append(mse)"
   ]
  },
  {
   "cell_type": "code",
   "execution_count": null,
   "metadata": {
    "collapsed": true
   },
   "outputs": [],
   "source": [
    "test_predictions = model.predict(X_test).flatten()\n",
    "plt.rcParams[\"figure.figsize\"] = [32,20]\n",
    "plt.scatter(y_test, predictions)\n",
    "plt.xlabel('True Values ')\n",
    "plt.ylabel('Predictions ')\n",
    "plt.axis('equal')\n",
    "plt.xlim(plt.xlim())\n",
    "plt.ylim(plt.ylim())\n",
    "_ = plt.plot([-100, 100], [-100, 100])\n",
    "plt.show()"
   ]
  },
  {
   "cell_type": "code",
   "execution_count": null,
   "metadata": {
    "collapsed": true
   },
   "outputs": [],
   "source": [
    "fig = plt.figure()\n",
    "plt.rcParams[\"figure.figsize\"]  \n",
    "plt.plot(mean_absolute_error_array_RF,'b-o', label =\"Random-Forest Regressor\")\n",
    "plt.plot(mean_absolute_error_array_LR,'r-o', label =\"Linear Regression \")\n",
    "plt.ylabel('Mean Absolute Error(%)')\n",
    "plt.legend()\n",
    "plt.grid(True)\n",
    "plt.show()"
   ]
  },
  {
   "cell_type": "code",
   "execution_count": null,
   "metadata": {
    "collapsed": true
   },
   "outputs": [],
   "source": []
  }
 ],
 "metadata": {
  "kernelspec": {
   "display_name": "Python 3",
   "language": "python",
   "name": "python3"
  },
  "language_info": {
   "codemirror_mode": {
    "name": "ipython",
    "version": 3
   },
   "file_extension": ".py",
   "mimetype": "text/x-python",
   "name": "python",
   "nbconvert_exporter": "python",
   "pygments_lexer": "ipython3",
   "version": "3.6.3"
  }
 },
 "nbformat": 4,
 "nbformat_minor": 2
}
