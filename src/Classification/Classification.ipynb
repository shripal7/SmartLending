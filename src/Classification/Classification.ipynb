{
 "cells": [
  {
   "cell_type": "code",
   "execution_count": 0,
   "metadata": {
    "colab": {},
    "colab_type": "code",
    "collapsed": true,
    "id": "bX9Rz0uSZJMt"
   },
   "outputs": [],
   "source": []
  },
  {
   "cell_type": "code",
   "execution_count": 429,
   "metadata": {
    "colab": {},
    "colab_type": "code",
    "collapsed": true,
    "id": "NMS78o7hcyg7"
   },
   "outputs": [],
   "source": [
    "# Install the PyDrive wrapper & import libraries.\n",
    "# This only needs to be done once per notebook.\n",
    "# !pip install -U -q PyDrive\n",
    "# from pydrive.auth import GoogleAuth\n",
    "from pydrive.drive import GoogleDrive\n",
    "import pandas as pd\n",
    "import numpy as np\n",
    "import seaborn as sns\n",
    "import matplotlib.pyplot as plt\n",
    "from sklearn.model_selection import GridSearchCV\n",
    "%matplotlib inline\n",
    "\n",
    "# from google.colab import auth\n",
    "# from oauth2client.client import GoogleCredentials\n",
    "\n",
    "# auth.authenticate_user()\n",
    "# gauth = GoogleAuth()\n",
    "# gauth.credentials = GoogleCredentials.get_application_default()\n",
    "# drive = GoogleDrive(gauth)\n",
    "# from sklearn import preprocessing\n",
    "# Download a file based on its file ID.\n",
    "#\n",
    "# A file ID looks like: laggVyWshwcyP6kEI-y_W3P8D26sz\n",
    "# file_id = 'REPLACE_WITH_YOUR_FILE_ID'\n",
    "# downloaded = drive.CreateFile({'id': file_id})\n",
    "# print('Downloaded content \"{}\"'.format(downloaded.GetContentString()))\n",
    "from sklearn import datasets\n",
    "from sklearn.svm import LinearSVC\n",
    "from sklearn.model_selection import train_test_split\n",
    "from sklearn.neighbors import KNeighborsClassifier\n",
    "from imblearn import over_sampling as os\n",
    "from imblearn import pipeline as pl\n",
    "from imblearn.metrics import classification_report_imbalanced\n",
    "from sklearn.ensemble import RandomForestClassifier\n",
    "from sklearn.datasets import make_classification\n",
    "from sklearn.metrics import classification_report\n",
    "from imblearn.over_sampling import SMOTE\n",
    "from sklearn import preprocessing"
   ]
  },
  {
   "cell_type": "code",
   "execution_count": 430,
   "metadata": {
    "colab": {
     "base_uri": "https://localhost:8080/",
     "height": 122
    },
    "colab_type": "code",
    "collapsed": true,
    "id": "b9y3hEvcc1f2",
    "outputId": "96da60ac-fce0-4865-eacd-27ac1e5624a9"
   },
   "outputs": [],
   "source": [
    "# from google.colab import drive\n",
    "# drive.mount('/content/gdrive')\n"
   ]
  },
  {
   "cell_type": "code",
   "execution_count": 431,
   "metadata": {
    "colab": {
     "base_uri": "https://localhost:8080/",
     "height": 287
    },
    "colab_type": "code",
    "id": "n7euPKdIpZxp",
    "outputId": "93ce07f9-1028-4212-c1d0-f3f6fb7294ac"
   },
   "outputs": [
    {
     "data": {
      "text/html": [
       "<div>\n",
       "<style>\n",
       "    .dataframe thead tr:only-child th {\n",
       "        text-align: right;\n",
       "    }\n",
       "\n",
       "    .dataframe thead th {\n",
       "        text-align: left;\n",
       "    }\n",
       "\n",
       "    .dataframe tbody tr th {\n",
       "        vertical-align: top;\n",
       "    }\n",
       "</style>\n",
       "<table border=\"1\" class=\"dataframe\">\n",
       "  <thead>\n",
       "    <tr style=\"text-align: right;\">\n",
       "      <th></th>\n",
       "      <th>Unnamed: 0</th>\n",
       "      <th>loan_amnt</th>\n",
       "      <th>amount_diff_inv</th>\n",
       "      <th>term</th>\n",
       "      <th>installment</th>\n",
       "      <th>grade</th>\n",
       "      <th>emp_length</th>\n",
       "      <th>home_ownership</th>\n",
       "      <th>annual_inc</th>\n",
       "      <th>verification_status</th>\n",
       "      <th>...</th>\n",
       "      <th>delinq_2yrs_cat</th>\n",
       "      <th>inq_last_6mths_cat</th>\n",
       "      <th>open_acc</th>\n",
       "      <th>pub_rec</th>\n",
       "      <th>pub_rec_cat</th>\n",
       "      <th>acc_ratio</th>\n",
       "      <th>initial_list_status</th>\n",
       "      <th>loan_status</th>\n",
       "      <th>int_rate</th>\n",
       "      <th>target</th>\n",
       "    </tr>\n",
       "  </thead>\n",
       "  <tbody>\n",
       "    <tr>\n",
       "      <th>0</th>\n",
       "      <td>0</td>\n",
       "      <td>8400</td>\n",
       "      <td>same</td>\n",
       "      <td>36</td>\n",
       "      <td>270.06</td>\n",
       "      <td>B</td>\n",
       "      <td>2.0</td>\n",
       "      <td>MORTGAGE</td>\n",
       "      <td>66000.0</td>\n",
       "      <td>Not Verified</td>\n",
       "      <td>...</td>\n",
       "      <td>n</td>\n",
       "      <td>y</td>\n",
       "      <td>7</td>\n",
       "      <td>0</td>\n",
       "      <td>n</td>\n",
       "      <td>0.318182</td>\n",
       "      <td>w</td>\n",
       "      <td>Fully Paid</td>\n",
       "      <td>9.75%</td>\n",
       "      <td>0</td>\n",
       "    </tr>\n",
       "    <tr>\n",
       "      <th>1</th>\n",
       "      <td>4</td>\n",
       "      <td>20000</td>\n",
       "      <td>same</td>\n",
       "      <td>36</td>\n",
       "      <td>664.20</td>\n",
       "      <td>C</td>\n",
       "      <td>10.0</td>\n",
       "      <td>MORTGAGE</td>\n",
       "      <td>49000.0</td>\n",
       "      <td>Source Verified</td>\n",
       "      <td>...</td>\n",
       "      <td>y</td>\n",
       "      <td>n</td>\n",
       "      <td>8</td>\n",
       "      <td>0</td>\n",
       "      <td>n</td>\n",
       "      <td>0.285714</td>\n",
       "      <td>w</td>\n",
       "      <td>Fully Paid</td>\n",
       "      <td>11.99%</td>\n",
       "      <td>0</td>\n",
       "    </tr>\n",
       "    <tr>\n",
       "      <th>2</th>\n",
       "      <td>5</td>\n",
       "      <td>13625</td>\n",
       "      <td>same</td>\n",
       "      <td>60</td>\n",
       "      <td>326.36</td>\n",
       "      <td>C</td>\n",
       "      <td>1.0</td>\n",
       "      <td>MORTGAGE</td>\n",
       "      <td>50000.0</td>\n",
       "      <td>Not Verified</td>\n",
       "      <td>...</td>\n",
       "      <td>n</td>\n",
       "      <td>n</td>\n",
       "      <td>21</td>\n",
       "      <td>0</td>\n",
       "      <td>n</td>\n",
       "      <td>0.291667</td>\n",
       "      <td>w</td>\n",
       "      <td>Fully Paid</td>\n",
       "      <td>15.31%</td>\n",
       "      <td>0</td>\n",
       "    </tr>\n",
       "    <tr>\n",
       "      <th>3</th>\n",
       "      <td>7</td>\n",
       "      <td>15000</td>\n",
       "      <td>same</td>\n",
       "      <td>60</td>\n",
       "      <td>393.50</td>\n",
       "      <td>D</td>\n",
       "      <td>1.0</td>\n",
       "      <td>RENT</td>\n",
       "      <td>63890.0</td>\n",
       "      <td>Not Verified</td>\n",
       "      <td>...</td>\n",
       "      <td>n</td>\n",
       "      <td>y</td>\n",
       "      <td>7</td>\n",
       "      <td>0</td>\n",
       "      <td>n</td>\n",
       "      <td>0.875000</td>\n",
       "      <td>w</td>\n",
       "      <td>Charged Off</td>\n",
       "      <td>19.53%</td>\n",
       "      <td>1</td>\n",
       "    </tr>\n",
       "    <tr>\n",
       "      <th>4</th>\n",
       "      <td>9</td>\n",
       "      <td>12000</td>\n",
       "      <td>same</td>\n",
       "      <td>60</td>\n",
       "      <td>277.18</td>\n",
       "      <td>C</td>\n",
       "      <td>10.0</td>\n",
       "      <td>MORTGAGE</td>\n",
       "      <td>68000.0</td>\n",
       "      <td>Source Verified</td>\n",
       "      <td>...</td>\n",
       "      <td>n</td>\n",
       "      <td>y</td>\n",
       "      <td>12</td>\n",
       "      <td>0</td>\n",
       "      <td>n</td>\n",
       "      <td>0.363636</td>\n",
       "      <td>w</td>\n",
       "      <td>Late (16-30 days)</td>\n",
       "      <td>13.67%</td>\n",
       "      <td>0</td>\n",
       "    </tr>\n",
       "  </tbody>\n",
       "</table>\n",
       "<p>5 rows × 22 columns</p>\n",
       "</div>"
      ],
      "text/plain": [
       "   Unnamed: 0  loan_amnt amount_diff_inv  term  installment grade  emp_length  \\\n",
       "0           0       8400            same    36       270.06     B         2.0   \n",
       "1           4      20000            same    36       664.20     C        10.0   \n",
       "2           5      13625            same    60       326.36     C         1.0   \n",
       "3           7      15000            same    60       393.50     D         1.0   \n",
       "4           9      12000            same    60       277.18     C        10.0   \n",
       "\n",
       "  home_ownership  annual_inc verification_status  ...   delinq_2yrs_cat  \\\n",
       "0       MORTGAGE     66000.0        Not Verified  ...                 n   \n",
       "1       MORTGAGE     49000.0     Source Verified  ...                 y   \n",
       "2       MORTGAGE     50000.0        Not Verified  ...                 n   \n",
       "3           RENT     63890.0        Not Verified  ...                 n   \n",
       "4       MORTGAGE     68000.0     Source Verified  ...                 n   \n",
       "\n",
       "   inq_last_6mths_cat open_acc pub_rec  pub_rec_cat  acc_ratio  \\\n",
       "0                   y        7       0            n   0.318182   \n",
       "1                   n        8       0            n   0.285714   \n",
       "2                   n       21       0            n   0.291667   \n",
       "3                   y        7       0            n   0.875000   \n",
       "4                   y       12       0            n   0.363636   \n",
       "\n",
       "  initial_list_status        loan_status int_rate target  \n",
       "0                   w         Fully Paid    9.75%      0  \n",
       "1                   w         Fully Paid   11.99%      0  \n",
       "2                   w         Fully Paid   15.31%      0  \n",
       "3                   w        Charged Off   19.53%      1  \n",
       "4                   w  Late (16-30 days)   13.67%      0  \n",
       "\n",
       "[5 rows x 22 columns]"
      ]
     },
     "execution_count": 431,
     "metadata": {},
     "output_type": "execute_result"
    }
   ],
   "source": [
    "df = pd.read_csv('../../data/example.csv')\n",
    "df.head() "
   ]
  },
  {
   "cell_type": "code",
   "execution_count": 432,
   "metadata": {
    "colab": {},
    "colab_type": "code",
    "collapsed": true,
    "id": "MUkGSdecc1go"
   },
   "outputs": [],
   "source": [
    "# with open('/gdrive/foo.txt', 'w') as f:\n",
    "#   f.write('Hello Google Drive!')\n",
    "# !cat /gdrive/foo.txt"
   ]
  },
  {
   "cell_type": "code",
   "execution_count": 433,
   "metadata": {
    "colab": {},
    "colab_type": "code",
    "collapsed": true,
    "id": "cJGAUvhTfKKR"
   },
   "outputs": [],
   "source": [
    "# le = preprocessing.LabelEncoder()\n",
    "# df['amount_diff_inv'] = le.fit_transform(df['amount_diff_inv'])\n",
    "# df['grade'] = le.fit_transform(df['grade'])\n",
    "# df['home_ownership'] = le.fit_transform(df['home_ownership'])\n",
    "# df['verification_status'] = le.fit_transform(df['verification_status'])\n",
    "# df['purpose'] = le.fit_transform(df['purpose'])\n",
    "# df['loan_status'] = le.fit_transform(df['loan_status'])\n",
    "# df['initial_list_status'] = le.fit_transform(df['initial_list_status'])\n",
    "# df['delinq_2yrs_cat'] = le.fit_transform(df['delinq_2yrs_cat'])\n",
    "# df['inq_last_6mths_cat'] = le.fit_transform(df['inq_last_6mths_cat'])\n",
    "# df['pub_rec_cat'] = le.fit_transform(df['pub_rec_cat'])\n"
   ]
  },
  {
   "cell_type": "code",
   "execution_count": 434,
   "metadata": {},
   "outputs": [],
   "source": [
    "df = df.drop(df.columns[0], axis=1).head()\n"
   ]
  },
  {
   "cell_type": "code",
   "execution_count": 435,
   "metadata": {
    "colab": {},
    "colab_type": "code",
    "collapsed": true,
    "id": "bUr1aVTxflre"
   },
   "outputs": [],
   "source": [
    "df['int_rate'] = df['int_rate'].str.split('%').str.get(0)\n",
    "# df['int_rate']= pddf['int_rate'])"
   ]
  },
  {
   "cell_type": "code",
   "execution_count": 438,
   "metadata": {},
   "outputs": [
    {
     "data": {
      "text/html": [
       "<div>\n",
       "<style>\n",
       "    .dataframe thead tr:only-child th {\n",
       "        text-align: right;\n",
       "    }\n",
       "\n",
       "    .dataframe thead th {\n",
       "        text-align: left;\n",
       "    }\n",
       "\n",
       "    .dataframe tbody tr th {\n",
       "        vertical-align: top;\n",
       "    }\n",
       "</style>\n",
       "<table border=\"1\" class=\"dataframe\">\n",
       "  <thead>\n",
       "    <tr style=\"text-align: right;\">\n",
       "      <th></th>\n",
       "      <th>loan_amnt</th>\n",
       "      <th>amount_diff_inv</th>\n",
       "      <th>term</th>\n",
       "      <th>installment</th>\n",
       "      <th>grade</th>\n",
       "      <th>emp_length</th>\n",
       "      <th>home_ownership</th>\n",
       "      <th>annual_inc</th>\n",
       "      <th>verification_status</th>\n",
       "      <th>purpose</th>\n",
       "      <th>...</th>\n",
       "      <th>delinq_2yrs_cat</th>\n",
       "      <th>inq_last_6mths_cat</th>\n",
       "      <th>open_acc</th>\n",
       "      <th>pub_rec</th>\n",
       "      <th>pub_rec_cat</th>\n",
       "      <th>acc_ratio</th>\n",
       "      <th>initial_list_status</th>\n",
       "      <th>loan_status</th>\n",
       "      <th>int_rate</th>\n",
       "      <th>target</th>\n",
       "    </tr>\n",
       "  </thead>\n",
       "  <tbody>\n",
       "    <tr>\n",
       "      <th>0</th>\n",
       "      <td>8400</td>\n",
       "      <td>same</td>\n",
       "      <td>36</td>\n",
       "      <td>270.06</td>\n",
       "      <td>B</td>\n",
       "      <td>2.0</td>\n",
       "      <td>MORTGAGE</td>\n",
       "      <td>66000.0</td>\n",
       "      <td>Not Verified</td>\n",
       "      <td>debt_consolidation</td>\n",
       "      <td>...</td>\n",
       "      <td>n</td>\n",
       "      <td>y</td>\n",
       "      <td>7</td>\n",
       "      <td>0</td>\n",
       "      <td>n</td>\n",
       "      <td>0.318182</td>\n",
       "      <td>w</td>\n",
       "      <td>Fully Paid</td>\n",
       "      <td>9.75</td>\n",
       "      <td>0</td>\n",
       "    </tr>\n",
       "    <tr>\n",
       "      <th>1</th>\n",
       "      <td>20000</td>\n",
       "      <td>same</td>\n",
       "      <td>36</td>\n",
       "      <td>664.20</td>\n",
       "      <td>C</td>\n",
       "      <td>10.0</td>\n",
       "      <td>MORTGAGE</td>\n",
       "      <td>49000.0</td>\n",
       "      <td>Source Verified</td>\n",
       "      <td>debt_consolidation</td>\n",
       "      <td>...</td>\n",
       "      <td>y</td>\n",
       "      <td>n</td>\n",
       "      <td>8</td>\n",
       "      <td>0</td>\n",
       "      <td>n</td>\n",
       "      <td>0.285714</td>\n",
       "      <td>w</td>\n",
       "      <td>Fully Paid</td>\n",
       "      <td>11.99</td>\n",
       "      <td>0</td>\n",
       "    </tr>\n",
       "    <tr>\n",
       "      <th>2</th>\n",
       "      <td>13625</td>\n",
       "      <td>same</td>\n",
       "      <td>60</td>\n",
       "      <td>326.36</td>\n",
       "      <td>C</td>\n",
       "      <td>1.0</td>\n",
       "      <td>MORTGAGE</td>\n",
       "      <td>50000.0</td>\n",
       "      <td>Not Verified</td>\n",
       "      <td>credit_card</td>\n",
       "      <td>...</td>\n",
       "      <td>n</td>\n",
       "      <td>n</td>\n",
       "      <td>21</td>\n",
       "      <td>0</td>\n",
       "      <td>n</td>\n",
       "      <td>0.291667</td>\n",
       "      <td>w</td>\n",
       "      <td>Fully Paid</td>\n",
       "      <td>15.31</td>\n",
       "      <td>0</td>\n",
       "    </tr>\n",
       "    <tr>\n",
       "      <th>3</th>\n",
       "      <td>15000</td>\n",
       "      <td>same</td>\n",
       "      <td>60</td>\n",
       "      <td>393.50</td>\n",
       "      <td>D</td>\n",
       "      <td>1.0</td>\n",
       "      <td>RENT</td>\n",
       "      <td>63890.0</td>\n",
       "      <td>Not Verified</td>\n",
       "      <td>debt_consolidation</td>\n",
       "      <td>...</td>\n",
       "      <td>n</td>\n",
       "      <td>y</td>\n",
       "      <td>7</td>\n",
       "      <td>0</td>\n",
       "      <td>n</td>\n",
       "      <td>0.875000</td>\n",
       "      <td>w</td>\n",
       "      <td>Charged Off</td>\n",
       "      <td>19.53</td>\n",
       "      <td>1</td>\n",
       "    </tr>\n",
       "    <tr>\n",
       "      <th>4</th>\n",
       "      <td>12000</td>\n",
       "      <td>same</td>\n",
       "      <td>60</td>\n",
       "      <td>277.18</td>\n",
       "      <td>C</td>\n",
       "      <td>10.0</td>\n",
       "      <td>MORTGAGE</td>\n",
       "      <td>68000.0</td>\n",
       "      <td>Source Verified</td>\n",
       "      <td>credit_card</td>\n",
       "      <td>...</td>\n",
       "      <td>n</td>\n",
       "      <td>y</td>\n",
       "      <td>12</td>\n",
       "      <td>0</td>\n",
       "      <td>n</td>\n",
       "      <td>0.363636</td>\n",
       "      <td>w</td>\n",
       "      <td>Late (16-30 days)</td>\n",
       "      <td>13.67</td>\n",
       "      <td>0</td>\n",
       "    </tr>\n",
       "  </tbody>\n",
       "</table>\n",
       "<p>5 rows × 21 columns</p>\n",
       "</div>"
      ],
      "text/plain": [
       "   loan_amnt amount_diff_inv  term  installment grade  emp_length  \\\n",
       "0       8400            same    36       270.06     B         2.0   \n",
       "1      20000            same    36       664.20     C        10.0   \n",
       "2      13625            same    60       326.36     C         1.0   \n",
       "3      15000            same    60       393.50     D         1.0   \n",
       "4      12000            same    60       277.18     C        10.0   \n",
       "\n",
       "  home_ownership  annual_inc verification_status             purpose  ...    \\\n",
       "0       MORTGAGE     66000.0        Not Verified  debt_consolidation  ...     \n",
       "1       MORTGAGE     49000.0     Source Verified  debt_consolidation  ...     \n",
       "2       MORTGAGE     50000.0        Not Verified         credit_card  ...     \n",
       "3           RENT     63890.0        Not Verified  debt_consolidation  ...     \n",
       "4       MORTGAGE     68000.0     Source Verified         credit_card  ...     \n",
       "\n",
       "   delinq_2yrs_cat inq_last_6mths_cat open_acc  pub_rec  pub_rec_cat  \\\n",
       "0                n                  y        7        0            n   \n",
       "1                y                  n        8        0            n   \n",
       "2                n                  n       21        0            n   \n",
       "3                n                  y        7        0            n   \n",
       "4                n                  y       12        0            n   \n",
       "\n",
       "  acc_ratio  initial_list_status        loan_status int_rate target  \n",
       "0  0.318182                    w         Fully Paid     9.75      0  \n",
       "1  0.285714                    w         Fully Paid    11.99      0  \n",
       "2  0.291667                    w         Fully Paid    15.31      0  \n",
       "3  0.875000                    w        Charged Off    19.53      1  \n",
       "4  0.363636                    w  Late (16-30 days)    13.67      0  \n",
       "\n",
       "[5 rows x 21 columns]"
      ]
     },
     "execution_count": 438,
     "metadata": {},
     "output_type": "execute_result"
    }
   ],
   "source": [
    "df.head()"
   ]
  },
  {
   "cell_type": "code",
   "execution_count": 439,
   "metadata": {
    "colab": {
     "base_uri": "https://localhost:8080/",
     "height": 270
    },
    "colab_type": "code",
    "collapsed": true,
    "id": "P5IPaVPdqADr",
    "outputId": "8063dd29-897c-4fcf-c4af-7cf9f27c71ba"
   },
   "outputs": [],
   "source": [
    "\n",
    "# X_clean.head()\n",
    "# X_clean['target'].head()\n",
    "# df['target'].head()"
   ]
  },
  {
   "cell_type": "code",
   "execution_count": 440,
   "metadata": {
    "colab": {},
    "colab_type": "code",
    "id": "RLD6U9OOqpGi"
   },
   "outputs": [],
   "source": [
    "le = preprocessing.LabelEncoder()\n",
    "df['amount_diff_inv'] = le.fit_transform(df['amount_diff_inv'])\n",
    "df['grade'] = le.fit_transform(df['grade'])\n",
    "df['home_ownership'] = le.fit_transform(df['home_ownership'])\n",
    "df['verification_status'] = le.fit_transform(df['verification_status'])\n",
    "df['purpose'] = le.fit_transform(df['purpose'])\n",
    "df['loan_status'] = le.fit_transform(df['loan_status'])\n",
    "df['initial_list_status'] = le.fit_transform(df['initial_list_status'])\n",
    "df['delinq_2yrs_cat'] = le.fit_transform(df['delinq_2yrs_cat'])\n",
    "df['inq_last_6mths_cat'] = le.fit_transform(df['inq_last_6mths_cat'])\n",
    "df['pub_rec_cat'] = le.fit_transform(df['pub_rec_cat'])\n"
   ]
  },
  {
   "cell_type": "code",
   "execution_count": 441,
   "metadata": {
    "colab": {},
    "colab_type": "code",
    "collapsed": true,
    "id": "jlcgD-tSqqH1"
   },
   "outputs": [],
   "source": [
    "df['int_rate'] = pd.to_numeric(df['int_rate'])\n",
    "# np.any(np.isnan(mat))\n",
    "# np.all(np.isfinite(mat))\n",
    "\n",
    "\n"
   ]
  },
  {
   "cell_type": "code",
   "execution_count": 442,
   "metadata": {
    "colab": {
     "base_uri": "https://localhost:8080/",
     "height": 1989
    },
    "colab_type": "code",
    "id": "9U-NjzVPyLzG",
    "outputId": "7cca387b-a2c4-4aab-ec46-64b6115809fe"
   },
   "outputs": [],
   "source": [
    "df.dropna(axis=0, how = 'any', inplace = True)\n"
   ]
  },
  {
   "cell_type": "code",
   "execution_count": 443,
   "metadata": {},
   "outputs": [
    {
     "data": {
      "text/plain": [
       "(5, 21)"
      ]
     },
     "execution_count": 443,
     "metadata": {},
     "output_type": "execute_result"
    }
   ],
   "source": [
    "df.shape"
   ]
  },
  {
   "cell_type": "code",
   "execution_count": 444,
   "metadata": {
    "colab": {},
    "colab_type": "code",
    "id": "BCWS4nB42FO3"
   },
   "outputs": [],
   "source": [
    "y = df['target']\n"
   ]
  },
  {
   "cell_type": "code",
   "execution_count": 445,
   "metadata": {
    "colab": {},
    "colab_type": "code",
    "id": "_WFJU4WN-i_v"
   },
   "outputs": [
    {
     "data": {
      "text/plain": [
       "0    0\n",
       "1    0\n",
       "2    0\n",
       "3    1\n",
       "4    0\n",
       "Name: target, dtype: int64"
      ]
     },
     "execution_count": 445,
     "metadata": {},
     "output_type": "execute_result"
    }
   ],
   "source": [
    "y"
   ]
  },
  {
   "cell_type": "code",
   "execution_count": 446,
   "metadata": {
    "colab": {},
    "colab_type": "code",
    "id": "RxH0F6Zy2dg_"
   },
   "outputs": [],
   "source": [
    "df.drop(['loan_status', 'target'], axis=1, inplace=True)"
   ]
  },
  {
   "cell_type": "code",
   "execution_count": 447,
   "metadata": {
    "colab": {
     "base_uri": "https://localhost:8080/",
     "height": 357
    },
    "colab_type": "code",
    "id": "qRsHlrlIx_2x",
    "outputId": "32f531b8-6481-4f73-ea26-aef5d403d125"
   },
   "outputs": [
    {
     "data": {
      "text/plain": [
       "loan_amnt              False\n",
       "amount_diff_inv        False\n",
       "term                   False\n",
       "installment            False\n",
       "grade                  False\n",
       "emp_length             False\n",
       "home_ownership         False\n",
       "annual_inc             False\n",
       "verification_status    False\n",
       "purpose                False\n",
       "dti                    False\n",
       "delinq_2yrs_cat        False\n",
       "inq_last_6mths_cat     False\n",
       "open_acc               False\n",
       "pub_rec                False\n",
       "pub_rec_cat            False\n",
       "acc_ratio              False\n",
       "initial_list_status    False\n",
       "int_rate               False\n",
       "dtype: bool"
      ]
     },
     "execution_count": 447,
     "metadata": {},
     "output_type": "execute_result"
    }
   ],
   "source": [
    "df.isnull().any()"
   ]
  },
  {
   "cell_type": "code",
   "execution_count": 448,
   "metadata": {
    "colab": {},
    "colab_type": "code",
    "collapsed": true,
    "id": "A3JHGLnJ16v_"
   },
   "outputs": [],
   "source": [
    "# X_clean = df"
   ]
  },
  {
   "cell_type": "code",
   "execution_count": 449,
   "metadata": {
    "colab": {
     "base_uri": "https://localhost:8080/",
     "height": 224
    },
    "colab_type": "code",
    "id": "zjbwBOmv18eB",
    "outputId": "ec6043d3-fb04-4568-9de9-4e0356bc2eff"
   },
   "outputs": [
    {
     "data": {
      "text/html": [
       "<div>\n",
       "<style>\n",
       "    .dataframe thead tr:only-child th {\n",
       "        text-align: right;\n",
       "    }\n",
       "\n",
       "    .dataframe thead th {\n",
       "        text-align: left;\n",
       "    }\n",
       "\n",
       "    .dataframe tbody tr th {\n",
       "        vertical-align: top;\n",
       "    }\n",
       "</style>\n",
       "<table border=\"1\" class=\"dataframe\">\n",
       "  <thead>\n",
       "    <tr style=\"text-align: right;\">\n",
       "      <th></th>\n",
       "      <th>loan_amnt</th>\n",
       "      <th>amount_diff_inv</th>\n",
       "      <th>term</th>\n",
       "      <th>installment</th>\n",
       "      <th>grade</th>\n",
       "      <th>emp_length</th>\n",
       "      <th>home_ownership</th>\n",
       "      <th>annual_inc</th>\n",
       "      <th>verification_status</th>\n",
       "      <th>purpose</th>\n",
       "      <th>dti</th>\n",
       "      <th>delinq_2yrs_cat</th>\n",
       "      <th>inq_last_6mths_cat</th>\n",
       "      <th>open_acc</th>\n",
       "      <th>pub_rec</th>\n",
       "      <th>pub_rec_cat</th>\n",
       "      <th>acc_ratio</th>\n",
       "      <th>initial_list_status</th>\n",
       "      <th>int_rate</th>\n",
       "    </tr>\n",
       "  </thead>\n",
       "  <tbody>\n",
       "    <tr>\n",
       "      <th>0</th>\n",
       "      <td>8400</td>\n",
       "      <td>0</td>\n",
       "      <td>36</td>\n",
       "      <td>270.06</td>\n",
       "      <td>0</td>\n",
       "      <td>2.0</td>\n",
       "      <td>0</td>\n",
       "      <td>66000.0</td>\n",
       "      <td>0</td>\n",
       "      <td>1</td>\n",
       "      <td>13.84</td>\n",
       "      <td>0</td>\n",
       "      <td>1</td>\n",
       "      <td>7</td>\n",
       "      <td>0</td>\n",
       "      <td>0</td>\n",
       "      <td>0.318182</td>\n",
       "      <td>0</td>\n",
       "      <td>9.75</td>\n",
       "    </tr>\n",
       "    <tr>\n",
       "      <th>1</th>\n",
       "      <td>20000</td>\n",
       "      <td>0</td>\n",
       "      <td>36</td>\n",
       "      <td>664.20</td>\n",
       "      <td>1</td>\n",
       "      <td>10.0</td>\n",
       "      <td>0</td>\n",
       "      <td>49000.0</td>\n",
       "      <td>1</td>\n",
       "      <td>1</td>\n",
       "      <td>15.58</td>\n",
       "      <td>1</td>\n",
       "      <td>0</td>\n",
       "      <td>8</td>\n",
       "      <td>0</td>\n",
       "      <td>0</td>\n",
       "      <td>0.285714</td>\n",
       "      <td>0</td>\n",
       "      <td>11.99</td>\n",
       "    </tr>\n",
       "    <tr>\n",
       "      <th>2</th>\n",
       "      <td>13625</td>\n",
       "      <td>0</td>\n",
       "      <td>60</td>\n",
       "      <td>326.36</td>\n",
       "      <td>1</td>\n",
       "      <td>1.0</td>\n",
       "      <td>0</td>\n",
       "      <td>50000.0</td>\n",
       "      <td>0</td>\n",
       "      <td>0</td>\n",
       "      <td>30.41</td>\n",
       "      <td>0</td>\n",
       "      <td>0</td>\n",
       "      <td>21</td>\n",
       "      <td>0</td>\n",
       "      <td>0</td>\n",
       "      <td>0.291667</td>\n",
       "      <td>0</td>\n",
       "      <td>15.31</td>\n",
       "    </tr>\n",
       "    <tr>\n",
       "      <th>3</th>\n",
       "      <td>15000</td>\n",
       "      <td>0</td>\n",
       "      <td>60</td>\n",
       "      <td>393.50</td>\n",
       "      <td>2</td>\n",
       "      <td>1.0</td>\n",
       "      <td>1</td>\n",
       "      <td>63890.0</td>\n",
       "      <td>0</td>\n",
       "      <td>1</td>\n",
       "      <td>20.36</td>\n",
       "      <td>0</td>\n",
       "      <td>1</td>\n",
       "      <td>7</td>\n",
       "      <td>0</td>\n",
       "      <td>0</td>\n",
       "      <td>0.875000</td>\n",
       "      <td>0</td>\n",
       "      <td>19.53</td>\n",
       "    </tr>\n",
       "    <tr>\n",
       "      <th>4</th>\n",
       "      <td>12000</td>\n",
       "      <td>0</td>\n",
       "      <td>60</td>\n",
       "      <td>277.18</td>\n",
       "      <td>1</td>\n",
       "      <td>10.0</td>\n",
       "      <td>0</td>\n",
       "      <td>68000.0</td>\n",
       "      <td>1</td>\n",
       "      <td>0</td>\n",
       "      <td>17.17</td>\n",
       "      <td>0</td>\n",
       "      <td>1</td>\n",
       "      <td>12</td>\n",
       "      <td>0</td>\n",
       "      <td>0</td>\n",
       "      <td>0.363636</td>\n",
       "      <td>0</td>\n",
       "      <td>13.67</td>\n",
       "    </tr>\n",
       "  </tbody>\n",
       "</table>\n",
       "</div>"
      ],
      "text/plain": [
       "   loan_amnt  amount_diff_inv  term  installment  grade  emp_length  \\\n",
       "0       8400                0    36       270.06      0         2.0   \n",
       "1      20000                0    36       664.20      1        10.0   \n",
       "2      13625                0    60       326.36      1         1.0   \n",
       "3      15000                0    60       393.50      2         1.0   \n",
       "4      12000                0    60       277.18      1        10.0   \n",
       "\n",
       "   home_ownership  annual_inc  verification_status  purpose    dti  \\\n",
       "0               0     66000.0                    0        1  13.84   \n",
       "1               0     49000.0                    1        1  15.58   \n",
       "2               0     50000.0                    0        0  30.41   \n",
       "3               1     63890.0                    0        1  20.36   \n",
       "4               0     68000.0                    1        0  17.17   \n",
       "\n",
       "   delinq_2yrs_cat  inq_last_6mths_cat  open_acc  pub_rec  pub_rec_cat  \\\n",
       "0                0                   1         7        0            0   \n",
       "1                1                   0         8        0            0   \n",
       "2                0                   0        21        0            0   \n",
       "3                0                   1         7        0            0   \n",
       "4                0                   1        12        0            0   \n",
       "\n",
       "   acc_ratio  initial_list_status  int_rate  \n",
       "0   0.318182                    0      9.75  \n",
       "1   0.285714                    0     11.99  \n",
       "2   0.291667                    0     15.31  \n",
       "3   0.875000                    0     19.53  \n",
       "4   0.363636                    0     13.67  "
      ]
     },
     "execution_count": 449,
     "metadata": {},
     "output_type": "execute_result"
    }
   ],
   "source": [
    "df.head()"
   ]
  },
  {
   "cell_type": "code",
   "execution_count": 450,
   "metadata": {
    "colab": {},
    "colab_type": "code",
    "id": "iqu1iMVV0GPg"
   },
   "outputs": [
    {
     "name": "stderr",
     "output_type": "stream",
     "text": [
      "/Users/shripalmodani/anaconda3/lib/python3.6/site-packages/sklearn/preprocessing/data.py:617: DataConversionWarning: Data with input dtype int64, float64 were all converted to float64 by StandardScaler.\n",
      "  return self.partial_fit(X, y)\n",
      "/Users/shripalmodani/anaconda3/lib/python3.6/site-packages/sklearn/base.py:462: DataConversionWarning: Data with input dtype int64, float64 were all converted to float64 by StandardScaler.\n",
      "  return self.fit(X, **fit_params).transform(X)\n"
     ]
    }
   ],
   "source": [
    "scaler = preprocessing.StandardScaler()\n",
    "X_scaled = scaler.fit_transform(df)\n"
   ]
  },
  {
   "cell_type": "code",
   "execution_count": 451,
   "metadata": {
    "colab": {
     "base_uri": "https://localhost:8080/",
     "height": 1031
    },
    "colab_type": "code",
    "collapsed": true,
    "id": "UGpkkVi5y7Mo",
    "outputId": "94eee0e5-69db-4eb7-9e7b-a1ca9ac0f5ff"
   },
   "outputs": [],
   "source": [
    "# from sklearn.model_selection import train_test_split\n",
    "# X_train, X_test, y_train, y_test = train_test_split(X_scaled, y, test_size=0.1, random_state=3, shuffle=True)\n"
   ]
  },
  {
   "cell_type": "code",
   "execution_count": 357,
   "metadata": {
    "colab": {},
    "colab_type": "code",
    "collapsed": true,
    "id": "3xpZgpUrzovS"
   },
   "outputs": [],
   "source": [
    "# from sklearn.ensemble import RandomForestClassifier\n",
    "# from sklearn.datasets import make_classification\n",
    "# from sklearn.metrics import classification_report\n",
    "# clf = RandomForestClassifier(n_estimators=41,\n",
    "#                              random_state=2)\n",
    "\n",
    "\n",
    "# sm = SMOTE(random_state=42)\n",
    "# X_res, y_res = sm.fit_resample(X_train, y_train)\n",
    "\n",
    "# clf.fit(X_res, y_res)\n"
   ]
  },
  {
   "cell_type": "code",
   "execution_count": 358,
   "metadata": {
    "colab": {},
    "colab_type": "code",
    "collapsed": true,
    "id": "p4IvLSpQ3DRK"
   },
   "outputs": [],
   "source": [
    "# print(clf.feature_importances_)\n"
   ]
  },
  {
   "cell_type": "code",
   "execution_count": 359,
   "metadata": {
    "colab": {},
    "colab_type": "code",
    "collapsed": true,
    "id": "34osd0sO3fLX"
   },
   "outputs": [],
   "source": [
    "# y_pred = clf.predict(X_test)\n",
    "# print(clf.predict(X_test))"
   ]
  },
  {
   "cell_type": "code",
   "execution_count": 360,
   "metadata": {
    "colab": {},
    "colab_type": "code",
    "collapsed": true,
    "id": "XLjN1yK53f8w"
   },
   "outputs": [],
   "source": [
    "\n",
    "# print(classification_report(y_pred, y_test))"
   ]
  },
  {
   "cell_type": "code",
   "execution_count": 361,
   "metadata": {
    "colab": {},
    "colab_type": "code",
    "id": "wIGlfQk7CpDi"
   },
   "outputs": [
    {
     "name": "stdout",
     "output_type": "stream",
     "text": [
      "                   pre       rec       spe        f1       geo       iba       sup\n",
      "\n",
      "          0       0.87      0.66      0.61      0.75      0.63      0.40     31173\n",
      "          1       0.31      0.61      0.66      0.41      0.63      0.40      8078\n",
      "\n",
      "avg / total       0.75      0.65      0.62      0.68      0.63      0.40     39251\n",
      "\n"
     ]
    },
    {
     "name": "stderr",
     "output_type": "stream",
     "text": [
      "/Users/shripalmodani/anaconda3/lib/python3.6/site-packages/sklearn/svm/base.py:922: ConvergenceWarning: Liblinear failed to converge, increase the number of iterations.\n",
      "  \"the number of iterations.\", ConvergenceWarning)\n"
     ]
    }
   ],
   "source": [
    "\n",
    "names = []\n",
    "res = []\n",
    "\n",
    "\n",
    "RANDOM_STATE = 42\n",
    "\n",
    "\n",
    "# Split the data\n",
    "X_train, X_test, y_train, y_test = train_test_split(X_scaled, y, test_size=0.1, random_state=3, shuffle=True)\n",
    "\n",
    "\n",
    "pipeline = pl.make_pipeline(os.SMOTE(random_state=RANDOM_STATE),\n",
    "                            LinearSVC(random_state=RANDOM_STATE))\n",
    "\n",
    "# Train the classifier with balancing\n",
    "pipeline.fit(X_train, y_train)\n",
    "\n",
    "# Test the classifier and get the prediction\n",
    "y_pred_bal = pipeline.predict(X_test)\n",
    "\n",
    "# Show the classification report\n",
    "print(classification_report_imbalanced(y_test, y_pred_bal))\n",
    "f1 = f1_score(y_test, y_pred_bal, average='macro')  \n",
    "res.append(f1)\n",
    "names.append(\"LinearSVC\")"
   ]
  },
  {
   "cell_type": "code",
   "execution_count": 212,
   "metadata": {
    "colab": {},
    "colab_type": "code",
    "collapsed": true,
    "id": "irY4tps_7MNa"
   },
   "outputs": [],
   "source": [
    "\n",
    "# # clf = RandomForestClassifier(n_estimators=41,\n",
    "# #                              random_state=2)\n",
    "\n",
    "\n",
    "# # sm = SMOTE(random_state=42)\n",
    "# # X_res, y_res = sm.fit_resample(X_train, y_train)\n",
    "\n",
    "# # clf.fit(X_res, y_res)\n",
    "\n",
    "# pipeline = pl.make_pipeline(os.SMOTE(random_state=RANDOM_STATE),\n",
    "#                             RandomForestClassifier(n_estimators=41,\n",
    "#                              random_state=RANDOM_STATE))\n",
    "\n",
    "# # Train the classifier with balancing\n",
    "# pipeline.fit(X_train, y_train)\n",
    "\n",
    "# # Test the classifier and get the prediction\n",
    "# y_pred_bal = pipeline.predict(X_test)\n",
    "\n",
    "# # Show the classification report\n",
    "# print(classification_report_imbalanced(y_test, y_pred_bal))"
   ]
  },
  {
   "cell_type": "code",
   "execution_count": 213,
   "metadata": {},
   "outputs": [
    {
     "name": "stdout",
     "output_type": "stream",
     "text": [
      "                   pre       rec       spe        f1       geo       iba       sup\n",
      "\n",
      "          0       0.82      0.64      0.47      0.72      0.55      0.31     31173\n",
      "          1       0.25      0.47      0.64      0.33      0.55      0.30      8078\n",
      "\n",
      "avg / total       0.71      0.61      0.50      0.64      0.55      0.30     39251\n",
      "\n"
     ]
    }
   ],
   "source": [
    "from sklearn.neighbors import KNeighborsClassifier\n",
    "pipeline = pl.make_pipeline(os.SMOTE(random_state=RANDOM_STATE),\n",
    "                            KNeighborsClassifier(n_neighbors=3))\n",
    "\n",
    "# Train the classifier with balancing\n",
    "pipeline.fit(X_train, y_train)\n",
    "\n",
    "# Test the classifier and get the prediction\n",
    "y_pred_bal = pipeline.predict(X_test)\n",
    "\n",
    "# Show the classification report\n",
    "print(classification_report_imbalanced(y_test, y_pred_bal))\n",
    "f1 = f1_score(y_test, y_pred_bal, average='macro')  \n",
    "res.append(f1)\n",
    "names.append(\"KNN\")"
   ]
  },
  {
   "cell_type": "code",
   "execution_count": null,
   "metadata": {
    "collapsed": true
   },
   "outputs": [],
   "source": [
    "\n",
    "# pipeline = pl.make_pipeline(os.SMOTE(random_state=RANDOM_STATE),\n",
    "#                             AdaBoostClassifier( DecisionTreeClassifier(min_samples_split=4,\n",
    "#                                                            class_weight=\"balanced\",\n",
    "#                                                            random_state=RANDOM_STATE), n_estimators=300, \n",
    "#                                                learning_rate=1.5, algorithm=\"SAMME\"))\n",
    "\n",
    "                            \n",
    "# # def classificationprediction(pipeline=pipeline):\n",
    "\n",
    "# pipeline.fit(X_train, y_train)\n",
    "\n",
    "# # Test the classifier and get the prediction\n",
    "# y_pred_bal = pipeline.predict(X_test)\n",
    "\n",
    "# # Show the classification report\n",
    "# print(classification_report_imbalanced(y_test, y_pred_bal))\n",
    "# f1 = f1_score(y_test, y_pred_bal, average='macro')  \n",
    "# res.append(f1)\n",
    "# names.append(\"Adaboost\")"
   ]
  },
  {
   "cell_type": "code",
   "execution_count": 214,
   "metadata": {
    "collapsed": true
   },
   "outputs": [],
   "source": [
    "rfclassifier =RandomForestClassifier(random_state=42)\n",
    "\n",
    "sm = SMOTE(random_state=42)\n",
    "X_res, y_res = sm.fit_resample(X_train, y_train)"
   ]
  },
  {
   "cell_type": "code",
   "execution_count": null,
   "metadata": {
    "collapsed": true
   },
   "outputs": [],
   "source": [
    "\n",
    "\n",
    "params = { \n",
    "    'n_estimators': [41,100,200, 250],\n",
    "    'criterion' :['entropy', 'gini']  \n",
    "}\n",
    "\n",
    "gridsearch_rfc = GridSearchCV(estimator=rfclassifier, param_grid=params, cv= 3)\n",
    "gridsearch_rfc.fit(X_res, y_res)"
   ]
  },
  {
   "cell_type": "code",
   "execution_count": 151,
   "metadata": {},
   "outputs": [
    {
     "data": {
      "text/plain": [
       "{'criterion': 'gini', 'n_estimators': 250}"
      ]
     },
     "execution_count": 151,
     "metadata": {},
     "output_type": "execute_result"
    }
   ],
   "source": [
    "gridsearch_rfc.best_params_"
   ]
  },
  {
   "cell_type": "code",
   "execution_count": 215,
   "metadata": {},
   "outputs": [
    {
     "name": "stdout",
     "output_type": "stream",
     "text": [
      "                   pre       rec       spe        f1       geo       iba       sup\n",
      "\n",
      "          0       0.80      0.99      0.05      0.88      0.22      0.06     31173\n",
      "          1       0.50      0.05      0.99      0.09      0.22      0.05      8078\n",
      "\n",
      "avg / total       0.74      0.79      0.24      0.72      0.22      0.05     39251\n",
      "\n"
     ]
    }
   ],
   "source": [
    "RANDOM_STATE = 42\n",
    "\n",
    "pipeline = pl.make_pipeline( RandomForestClassifier(n_estimators=250,\n",
    "                             random_state=RANDOM_STATE, criterion='gini'))\n",
    "\n",
    "# Train the classifier with balancing\n",
    "pipeline.fit(X_train, y_train)\n",
    "\n",
    "# Test the classifier and get the prediction\n",
    "y_pred_bal = pipeline.predict(X_test)\n",
    "\n",
    "# Show the classification report\n",
    "print(classification_report_imbalanced(y_test, y_pred_bal))\n",
    "f1 = f1_score(y_test, y_pred_bal, average='macro') \n",
    "# names.append()\n",
    "names.append(\"RFC\")\n",
    "res.append(f1)"
   ]
  },
  {
   "cell_type": "code",
   "execution_count": 153,
   "metadata": {
    "collapsed": true
   },
   "outputs": [],
   "source": [
    "# import matplotlib.pyplot as plt\n",
    "# from matplotlib.colors import ListedColormap\n",
    "# from sklearn.model_selection import train_test_split\n",
    "# from sklearn.preprocessing import StandardScaler\n",
    "# from sklearn.datasets import make_moons, make_circles, make_classification\n",
    "# from sklearn.neural_network import MLPClassifier\n",
    "# from sklearn.neighbors import KNeighborsClassifier\n",
    "# from sklearn.svm import SVC\n",
    "# from sklearn.gaussian_process import GaussianProcessClassifier\n",
    "# from sklearn.gaussian_process.kernels import RBF\n",
    "# from sklearn.tree import DecisionTreeClassifier\n",
    "# from sklearn.ensemble import RandomForestClassifier, AdaBoostClassifier\n",
    "# from sklearn.naive_bayes import GaussianNB\n",
    "# from sklearn.discriminant_analysis import QuadraticDiscriminantAnalysis\n",
    "\n",
    "# from sklearn.svm import LinearSVC\n",
    "# from sklearn.model_selection import train_test_split\n",
    "# from sklearn.neighbors import KNeighborsClassifier\n",
    "# from imblearn import over_sampling as os\n",
    "# from imblearn import pipeline as pl\n",
    "# from imblearn.metrics import classification_report_imbalanced\n",
    "# from sklearn.ensemble import RandomForestClassifier\n",
    "# from sklearn.datasets import make_classification\n",
    "# from sklearn.metrics import classification_report\n",
    "# from imblearn.over_sampling import SMOTE\n",
    "# from sklearn import preprocessing\n",
    "# from sklearn import model_selection\n",
    "# from sklearn.metrics import f1_score\n",
    "# from sklearn.linear_model import LogisticRegression\n",
    "\n",
    "\n",
    "# names = [\"Nearest Neighbors\", \"Linear SVM\",\"Random Forest\", \"AdaBoost\",\n",
    "#          \"Naive Bayes\"]\n",
    "\n",
    "# classifiers = [\n",
    "#     KNeighborsClassifier(3),\n",
    "#     SVC(kernel=\"linear\", C=0.025),\n",
    "#     RandomForestClassifier(max_depth=5, n_estimators=10),\n",
    "#     AdaBoostClassifier(),\n",
    "#     GaussianNB()]\n",
    "\n",
    "# X = X_scaled\n"
   ]
  },
  {
   "cell_type": "code",
   "execution_count": 225,
   "metadata": {},
   "outputs": [
    {
     "data": {
      "image/png": "[encoded data removed]",
      "text/plain": [
       "<matplotlib.figure.Figure at 0x1a1cf72fd0>"
      ]
     },
     "metadata": {},
     "output_type": "display_data"
    }
   ],
   "source": [
    "# seed = 7\n",
    "\n",
    "# rng = np.random.RandomState(2)\n",
    "# # linearly_separable = (X, y)\n",
    "\n",
    "# X_entire = np.vstack((X_train,X_test))\n",
    "# y_entire = np.append(y_train,y_test)\n",
    "# h = .02\n",
    "# # datasets = [make_moons(noise=0.3, random_state=0),\n",
    "# #             make_circles(noise=0.2, factor=0.5, random_state=1),\n",
    "# #             linearly_separable\n",
    "# #             ]\n",
    "\n",
    "# # figure = plt.figure(figsize=(27, 9))\n",
    "# # i = 1\n",
    "# # # iterate over datasets\n",
    "# # for ds_cnt, ds in enumerate(datasets):\n",
    "\n",
    "#     # iterate over classifiers\n",
    "# res = []\n",
    "# for name, clf in zip(names, classifiers):\n",
    "# #         ax = plt.subplot(len(datasets), len(classifiers) + 1, i)\n",
    "#         pipeline = pl.make_pipeline(os.SMOTE(random_state=RANDOM_STATE),\n",
    "#                             clf)\n",
    "#         pipeline.fit(X_train, y_train)\n",
    "#         y_pred_bal = pipeline.predict(X_test)\n",
    "        \n",
    "#         print(classification_report_imbalanced(y_test, y_pred_bal))\n",
    "#         scoring = 'accuracy'\n",
    "#         kfold = model_selection.KFold(n_splits=10, random_state=seed)\n",
    "#         cv_results = model_selection.cross_val_score(clf, X_entire, y_entire, cv=kfold, scoring=scoring)\n",
    "#         res.append(cv_results)\n",
    "#         msg = \"%s: %f (%f)\" % (name, cv_results.mean(), cv_results.std())\n",
    "#         print(msg)\n",
    "# fig = plt.figure()\n",
    "# fig.suptitle('Algorithm Comparison')\n",
    "# ax = fig.add_subplot(111)\n",
    "# plt.boxplot(res)\n",
    "# ax.set_xticklabels(names)\n",
    "# plt.show()\n",
    "\n"
   ]
  },
  {
   "cell_type": "code",
   "execution_count": 219,
   "metadata": {},
   "outputs": [
    {
     "data": {
      "text/plain": [
       "[0.5758210870185403, 0.5258081842584328, 0.4885565032322532]"
      ]
     },
     "execution_count": 219,
     "metadata": {},
     "output_type": "execute_result"
    }
   ],
   "source": [
    "res"
   ]
  },
  {
   "cell_type": "code",
   "execution_count": 220,
   "metadata": {},
   "outputs": [
    {
     "data": {
      "text/plain": [
       "['LinearSVC', 'KNN', 'RFC']"
      ]
     },
     "execution_count": 220,
     "metadata": {},
     "output_type": "execute_result"
    }
   ],
   "source": [
    "names"
   ]
  },
  {
   "cell_type": "code",
   "execution_count": 227,
   "metadata": {},
   "outputs": [
    {
     "name": "stdout",
     "output_type": "stream",
     "text": [
      "                   pre       rec       spe        f1       geo       iba       sup\n",
      "\n",
      "          0       0.81      0.91      0.20      0.86      0.43      0.20     31173\n",
      "          1       0.36      0.20      0.91      0.26      0.43      0.17      8078\n",
      "\n",
      "avg / total       0.72      0.76      0.35      0.73      0.43      0.19     39251\n",
      "\n"
     ]
    }
   ],
   "source": [
    "\n",
    "pipeline = pl.make_pipeline(os.SMOTE(random_state=RANDOM_STATE),\n",
    "                            AdaBoostClassifier( DecisionTreeClassifier(min_samples_split=4,\n",
    "                                                           class_weight=\"balanced\",\n",
    "                                                           random_state=RANDOM_STATE), n_estimators=300, \n",
    "                                               learning_rate=1.5, algorithm=\"SAMME\"))\n",
    "\n",
    "                            \n",
    "pipeline.fit(X_train, y_train)\n",
    "\n",
    "y_pred_bal = pipeline.predict(X_test)\n",
    "\n",
    "# Show the classification report\n",
    "print(classification_report_imbalanced(y_test, y_pred_bal))\n",
    "f1 = f1_score(y_test, y_pred_bal)  \n",
    "res.append(f1)\n",
    "names.append(\"Adaboost\")"
   ]
  },
  {
   "cell_type": "code",
   "execution_count": 228,
   "metadata": {},
   "outputs": [
    {
     "data": {
      "text/plain": [
       "[0.5758210870185403,\n",
       " 0.5258081842584328,\n",
       " 0.4885565032322532,\n",
       " 0.5585923049396119]"
      ]
     },
     "execution_count": 228,
     "metadata": {},
     "output_type": "execute_result"
    }
   ],
   "source": [
    "res"
   ]
  },
  {
   "cell_type": "code",
   "execution_count": 229,
   "metadata": {},
   "outputs": [
    {
     "data": {
      "text/plain": [
       "['LinearSVC', 'KNN', 'RFC', 'Adaboost']"
      ]
     },
     "execution_count": 229,
     "metadata": {},
     "output_type": "execute_result"
    }
   ],
   "source": [
    "names"
   ]
  },
  {
   "cell_type": "code",
   "execution_count": 230,
   "metadata": {},
   "outputs": [
    {
     "data": {
      "image/png": "[encoded data removed]",
      "text/plain": [
       "<matplotlib.figure.Figure at 0x1a1ca09fd0>"
      ]
     },
     "metadata": {},
     "output_type": "display_data"
    }
   ],
   "source": [
    "plt.bar(names, res,  align='center', alpha=0.5)\n",
    "plt.ylabel('F1-score')\n",
    "plt.title('Algorithm analysis')\n",
    " \n",
    "plt.show()"
   ]
  },
  {
   "cell_type": "code",
   "execution_count": null,
   "metadata": {
    "collapsed": true
   },
   "outputs": [],
   "source": []
  }
 ],
 "metadata": {
  "colab": {
   "collapsed_sections": [],
   "name": "Classification.ipynb",
   "provenance": [],
   "version": "0.3.2"
  },
  "kernelspec": {
   "display_name": "Python 3",
   "language": "python",
   "name": "python3"
  }
 },
 "nbformat": 4,
 "nbformat_minor": 1
}
